{
 "cells": [
  {
   "cell_type": "code",
   "execution_count": null,
   "metadata": {},
   "outputs": [
    {
     "name": "stdout",
     "output_type": "stream",
     "text": [
      "{'firstName': 'Sara', 'lastName': 'Hosseini', 'Age': 25, 'City': 'Tehran'}\n"
     ]
    }
   ],
   "source": [
    "#6.1\n",
    "personality = {\n",
    "    'firstName' : 'Sara',\n",
    "    'lastName': 'Hosseini',\n",
    "    'Age' : 25,\n",
    "    'City' : 'Tehran',\n",
    "}\n",
    "print(personality)\n",
    "\n"
   ]
  },
  {
   "cell_type": "code",
   "execution_count": null,
   "metadata": {},
   "outputs": [],
   "source": [
    "#6-4\n",
    "languages = {\n",
    "    'Sara' : 'English',\n",
    "    'john' : 'French',\n",
    "}\n",
    "for name in languages.keys():\n",
    "    print(f\"Hi {name.title()}\")\n",
    "\n",
    "print(\"Sara and john are studying :\")\n",
    "for name in languages.values():\n",
    "    print(language.title())\n",
    "\n",
    "#6-6\n",
    "favorite_languages = {\n",
    "    'jen' : 'python',\n",
    "    'sara' : 'c',\n",
    "    'phil' : 'python',\n",
    "}\n",
    "language_0 = favorite_languages['jen'].title()\n",
    "print(f\"jen's favorite language in {language}\")\n",
    "if 'era' not in favorite_languages.keys():\n",
    "    print(f'Erin, please take our poll')\n",
    "\n",
    "if name in favorite_languages:\n",
    "    language = favorite_languages[name]\n",
    "    print(f\"{name.title()}, Thanks for joining our poll!\")\n",
    "\n",
    "\n"
   ]
  }
 ],
 "metadata": {
  "kernelspec": {
   "display_name": "Python 3",
   "language": "python",
   "name": "python3"
  },
  "language_info": {
   "codemirror_mode": {
    "name": "ipython",
    "version": 3
   },
   "file_extension": ".py",
   "mimetype": "text/x-python",
   "name": "python",
   "nbconvert_exporter": "python",
   "pygments_lexer": "ipython3",
   "version": "3.11.1"
  },
  "orig_nbformat": 4,
  "vscode": {
   "interpreter": {
    "hash": "fd247c13dbadd0b0877533ca9741c8b9130dba32ca712ec4005fbe1430cf670e"
   }
  }
 },
 "nbformat": 4,
 "nbformat_minor": 2
}
